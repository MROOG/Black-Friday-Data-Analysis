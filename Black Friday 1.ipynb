{
 "cells": [
  {
   "cell_type": "markdown",
   "metadata": {},
   "source": [
    "# Steps "
   ]
  },
  {
   "cell_type": "raw",
   "metadata": {},
   "source": [
    "1/uploading dataset \n",
    "2/Data Exploration:data describe------data distripution -----target &features distripution ----\n",
    "3/Data Preprocessing:Missing data------Data normalization------data encoding \n",
    "4/Splitting Data\n",
    "5/Setting Regression Model: DecisionTreeRegressor--GaussianNB------RandomForestRegressor\n",
    "6/Model optimization:Gridsearch\n",
    "7/Model Evaluation:learning curve--sqrt---msqr"
   ]
  },
  {
   "cell_type": "markdown",
   "metadata": {},
   "source": [
    "# Resources"
   ]
  },
  {
   "cell_type": "raw",
   "metadata": {},
   "source": [
    "https://seaborn.pydata.org/generated/seaborn.distplot.html\n",
    "https://www.datacamp.com/community/tutorials/ml-black-friday-datasethttps://www.kaggle.com/dalalmanish/black-friday-python\n",
    "https://www.freelancer.com/community/articles/algorithms-machine-learning-engineers-need-to-know\n",
    "https://medium.com/diogo-menezes-borges/project-3-analytics-vidhya-hackaton-black-friday-f6c6bf3da86f\n",
    "Code used for this graph is from https://www.kaggle.com/serigne/\n",
    "https://machinelearningmastery.com/handle-missing-data-python/\n",
    "https://scikit-learn.org/stable/modules/generated/sklearn.preprocessing.LabelEncoder.html\n",
    "https://chrisalbon.com/machine_learning/model_evaluation/plot_the_learning_curve/\n",
    "https://www.kaggle.com/sungsujaing/\n",
    "https://stats.stackexchange.com/questions/153131/gridsearchcv-regression-vs-linear-regression-vs-stats-model-ols\n",
    "https://scikit-learn.org/stable/auto_examples/model_selection/plot_learning_curve.html#sphx-glr-auto-examples-model-selection-plot-learning-curve-py"
   ]
  },
  {
   "cell_type": "markdown",
   "metadata": {},
   "source": [
    "# 1/Upload Dataset "
   ]
  },
  {
   "cell_type": "code",
   "execution_count": 2,
   "metadata": {},
   "outputs": [
    {
     "name": "stdout",
     "output_type": "stream",
     "text": [
      "['.ipynb_checkpoints', '.~Black Friday 1.ipynb', 'Black Friday 1.ipynb', 'BlackFriday.csv']\n",
      "      User_ID Product_ID Gender    Age  Occupation City_Category  \\\n",
      "0     1000001  P00069042      F   0-17          10             A   \n",
      "1     1000001  P00248942      F   0-17          10             A   \n",
      "2     1000001  P00087842      F   0-17          10             A   \n",
      "3     1000001  P00085442      F   0-17          10             A   \n",
      "4     1000002  P00285442      M    55+          16             C   \n",
      "5     1000003  P00193542      M  26-35          15             A   \n",
      "6     1000004  P00184942      M  46-50           7             B   \n",
      "7     1000004  P00346142      M  46-50           7             B   \n",
      "8     1000004   P0097242      M  46-50           7             B   \n",
      "9     1000005  P00274942      M  26-35          20             A   \n",
      "10    1000005  P00251242      M  26-35          20             A   \n",
      "11    1000005  P00014542      M  26-35          20             A   \n",
      "12    1000005  P00031342      M  26-35          20             A   \n",
      "13    1000005  P00145042      M  26-35          20             A   \n",
      "14    1000006  P00231342      F  51-55           9             A   \n",
      "15    1000006  P00190242      F  51-55           9             A   \n",
      "16    1000006   P0096642      F  51-55           9             A   \n",
      "17    1000006  P00058442      F  51-55           9             A   \n",
      "18    1000007  P00036842      M  36-45           1             B   \n",
      "19    1000008  P00249542      M  26-35          12             C   \n",
      "20    1000008  P00220442      M  26-35          12             C   \n",
      "21    1000008  P00156442      M  26-35          12             C   \n",
      "22    1000008  P00213742      M  26-35          12             C   \n",
      "23    1000008  P00214442      M  26-35          12             C   \n",
      "24    1000008  P00303442      M  26-35          12             C   \n",
      "25    1000009  P00135742      M  26-35          17             C   \n",
      "26    1000009  P00039942      M  26-35          17             C   \n",
      "27    1000009  P00161442      M  26-35          17             C   \n",
      "28    1000009  P00078742      M  26-35          17             C   \n",
      "29    1000010  P00085942      F  36-45           1             B   \n",
      "...       ...        ...    ...    ...         ...           ...   \n",
      "9970  1001523  P00114342      M  26-35          17             C   \n",
      "9971  1001523  P00057642      M  26-35          17             C   \n",
      "9972  1001524  P00249842      M  18-25           4             B   \n",
      "9973  1001524  P00278442      M  18-25           4             B   \n",
      "9974  1001524  P00110742      M  18-25           4             B   \n",
      "9975  1001524  P00316242      M  18-25           4             B   \n",
      "9976  1001524  P00244142      M  18-25           4             B   \n",
      "9977  1001524  P00024742      M  18-25           4             B   \n",
      "9978  1001524  P00250642      M  18-25           4             B   \n",
      "9979  1001524  P00288542      M  18-25           4             B   \n",
      "9980  1001524  P00330342      M  18-25           4             B   \n",
      "9981  1001525  P00112442      F  26-35          16             B   \n",
      "9982  1001525  P00215042      F  26-35          16             B   \n",
      "9983  1001525  P00115742      F  26-35          16             B   \n",
      "9984  1001525  P00265742      F  26-35          16             B   \n",
      "9985  1001525  P00120742      F  26-35          16             B   \n",
      "9986  1001526  P00329442      M    55+          17             C   \n",
      "9987  1001526  P00110042      M    55+          17             C   \n",
      "9988  1001527  P00330342      M  18-25          10             C   \n",
      "9989  1001527  P00224842      M  18-25          10             C   \n",
      "9990  1001527  P00351342      M  18-25          10             C   \n",
      "9991  1001527  P00293542      M  18-25          10             C   \n",
      "9992  1001527  P00366542      M  18-25          10             C   \n",
      "9993  1001528  P00230942      M  26-35          15             C   \n",
      "9994  1001530  P00028842      M  26-35           4             A   \n",
      "9995  1001530  P00151742      M  26-35           4             A   \n",
      "9996  1001530  P00119742      M  26-35           4             A   \n",
      "9997  1001530  P00178842      M  26-35           4             A   \n",
      "9998  1001530  P00124842      M  26-35           4             A   \n",
      "9999  1001530  P00343042      M  26-35           4             A   \n",
      "\n",
      "     Stay_In_Current_City_Years  Marital_Status  Product_Category_1  \\\n",
      "0                             2               0                   3   \n",
      "1                             2               0                   1   \n",
      "2                             2               0                  12   \n",
      "3                             2               0                  12   \n",
      "4                            4+               0                   8   \n",
      "5                             3               0                   1   \n",
      "6                             2               1                   1   \n",
      "7                             2               1                   1   \n",
      "8                             2               1                   1   \n",
      "9                             1               1                   8   \n",
      "10                            1               1                   5   \n",
      "11                            1               1                   8   \n",
      "12                            1               1                   8   \n",
      "13                            1               1                   1   \n",
      "14                            1               0                   5   \n",
      "15                            1               0                   4   \n",
      "16                            1               0                   2   \n",
      "17                            1               0                   5   \n",
      "18                            1               1                   1   \n",
      "19                           4+               1                   1   \n",
      "20                           4+               1                   5   \n",
      "21                           4+               1                   8   \n",
      "22                           4+               1                   8   \n",
      "23                           4+               1                   8   \n",
      "24                           4+               1                   1   \n",
      "25                            0               0                   6   \n",
      "26                            0               0                   8   \n",
      "27                            0               0                   5   \n",
      "28                            0               0                   5   \n",
      "29                           4+               1                   2   \n",
      "...                         ...             ...                 ...   \n",
      "9970                          0               0                   1   \n",
      "9971                          0               0                   1   \n",
      "9972                          1               0                   8   \n",
      "9973                          1               0                  11   \n",
      "9974                          1               0                   1   \n",
      "9975                          1               0                   5   \n",
      "9976                          1               0                   1   \n",
      "9977                          1               0                   8   \n",
      "9978                          1               0                  11   \n",
      "9979                          1               0                   8   \n",
      "9980                          1               0                   5   \n",
      "9981                          3               1                   6   \n",
      "9982                          3               1                   5   \n",
      "9983                          3               1                   6   \n",
      "9984                          3               1                   5   \n",
      "9985                          3               1                   8   \n",
      "9986                         4+               1                   5   \n",
      "9987                         4+               1                   5   \n",
      "9988                          1               1                   5   \n",
      "9989                          1               1                   8   \n",
      "9990                          1               1                   1   \n",
      "9991                          1               1                   8   \n",
      "9992                          1               1                   5   \n",
      "9993                          1               0                   5   \n",
      "9994                          1               1                   6   \n",
      "9995                          1               1                   8   \n",
      "9996                          1               1                   5   \n",
      "9997                          1               1                   2   \n",
      "9998                          1               1                  11   \n",
      "9999                          1               1                   5   \n",
      "\n",
      "      Product_Category_2  Product_Category_3  Purchase  \n",
      "0                    NaN                 NaN      8370  \n",
      "1                    6.0                14.0     15200  \n",
      "2                    NaN                 NaN      1422  \n",
      "3                   14.0                 NaN      1057  \n",
      "4                    NaN                 NaN      7969  \n",
      "5                    2.0                 NaN     15227  \n",
      "6                    8.0                17.0     19215  \n",
      "7                   15.0                 NaN     15854  \n",
      "8                   16.0                 NaN     15686  \n",
      "9                    NaN                 NaN      7871  \n",
      "10                  11.0                 NaN      5254  \n",
      "11                   NaN                 NaN      3957  \n",
      "12                   NaN                 NaN      6073  \n",
      "13                   2.0                 5.0     15665  \n",
      "14                   8.0                14.0      5378  \n",
      "15                   5.0                 NaN      2079  \n",
      "16                   3.0                 4.0     13055  \n",
      "17                  14.0                 NaN      8851  \n",
      "18                  14.0                16.0     11788  \n",
      "19                   5.0                15.0     19614  \n",
      "20                  14.0                 NaN      8584  \n",
      "21                   NaN                 NaN      9872  \n",
      "22                   NaN                 NaN      9743  \n",
      "23                   NaN                 NaN      5982  \n",
      "24                   8.0                14.0     11927  \n",
      "25                   8.0                 NaN     16662  \n",
      "26                   NaN                 NaN      5887  \n",
      "27                  14.0                 NaN      6973  \n",
      "28                   8.0                14.0      5391  \n",
      "29                   4.0                 8.0     16352  \n",
      "...                  ...                 ...       ...  \n",
      "9970                 8.0                17.0     19671  \n",
      "9971                15.0                16.0     11981  \n",
      "9972                 NaN                 NaN      1939  \n",
      "9973                 NaN                 NaN      4468  \n",
      "9974                 2.0                 8.0     19126  \n",
      "9975                 NaN                 NaN      1895  \n",
      "9976                 2.0                15.0     11815  \n",
      "9977                11.0                 NaN      9851  \n",
      "9978                 NaN                 NaN      7549  \n",
      "9979                 NaN                 NaN      8004  \n",
      "9980                11.0                16.0      8661  \n",
      "9981                 8.0                 NaN     16386  \n",
      "9982                 NaN                 NaN      5174  \n",
      "9983                10.0                16.0     12650  \n",
      "9984                12.0                 NaN      5200  \n",
      "9985                12.0                17.0      3962  \n",
      "9986                 8.0                 NaN      7103  \n",
      "9987                14.0                 NaN      7018  \n",
      "9988                11.0                16.0      5337  \n",
      "9989                 NaN                 NaN      8009  \n",
      "9990                 2.0                16.0     12039  \n",
      "9991                 NaN                 NaN      9798  \n",
      "9992                 NaN                 NaN      8686  \n",
      "9993                14.0                 NaN      8743  \n",
      "9994                 8.0                 NaN     20138  \n",
      "9995                15.0                16.0      7967  \n",
      "9996                 8.0                12.0      8590  \n",
      "9997                 4.0                 9.0     13147  \n",
      "9998                 NaN                 NaN      5975  \n",
      "9999                18.0                 NaN      8653  \n",
      "\n",
      "[10000 rows x 12 columns]\n"
     ]
    }
   ],
   "source": [
    "import pandas as pd\n",
    "import os\n",
    "print(os.listdir(\"../Black Friday\"))\n",
    "dataset=pd.read_csv('../Black Friday/BlackFriday.csv')\n",
    "dataset=dataset [:10000]\n",
    "print(dataset)"
   ]
  },
  {
   "cell_type": "code",
   "execution_count": 3,
   "metadata": {},
   "outputs": [
    {
     "name": "stdout",
     "output_type": "stream",
     "text": [
      "  Gender   Age  Occupation City_Category Stay_In_Current_City_Years  \\\n",
      "0      F  0-17          10             A                          2   \n",
      "1      F  0-17          10             A                          2   \n",
      "2      F  0-17          10             A                          2   \n",
      "3      F  0-17          10             A                          2   \n",
      "4      M   55+          16             C                         4+   \n",
      "\n",
      "   Marital_Status  Product_Category_1  Product_Category_2  Product_Category_3  \\\n",
      "0               0                   3                 NaN                 NaN   \n",
      "1               0                   1                 6.0                14.0   \n",
      "2               0                  12                 NaN                 NaN   \n",
      "3               0                  12                14.0                 NaN   \n",
      "4               0                   8                 NaN                 NaN   \n",
      "\n",
      "   Purchase  \n",
      "0      8370  \n",
      "1     15200  \n",
      "2      1422  \n",
      "3      1057  \n",
      "4      7969  \n"
     ]
    }
   ],
   "source": [
    "\n",
    "new_dataset=dataset.drop([ 'User_ID', 'Product_ID'], axis=1)\n",
    "print(new_dataset.head())"
   ]
  },
  {
   "cell_type": "markdown",
   "metadata": {},
   "source": [
    "### 2/Data exploration"
   ]
  },
  {
   "cell_type": "code",
   "execution_count": 4,
   "metadata": {},
   "outputs": [
    {
     "data": {
      "text/html": [
       "<div>\n",
       "<style scoped>\n",
       "    .dataframe tbody tr th:only-of-type {\n",
       "        vertical-align: middle;\n",
       "    }\n",
       "\n",
       "    .dataframe tbody tr th {\n",
       "        vertical-align: top;\n",
       "    }\n",
       "\n",
       "    .dataframe thead th {\n",
       "        text-align: right;\n",
       "    }\n",
       "</style>\n",
       "<table border=\"1\" class=\"dataframe\">\n",
       "  <thead>\n",
       "    <tr style=\"text-align: right;\">\n",
       "      <th></th>\n",
       "      <th>Occupation</th>\n",
       "      <th>Marital_Status</th>\n",
       "      <th>Product_Category_1</th>\n",
       "      <th>Product_Category_2</th>\n",
       "      <th>Product_Category_3</th>\n",
       "      <th>Purchase</th>\n",
       "    </tr>\n",
       "  </thead>\n",
       "  <tbody>\n",
       "    <tr>\n",
       "      <th>count</th>\n",
       "      <td>10000.000000</td>\n",
       "      <td>10000.000000</td>\n",
       "      <td>10000.000000</td>\n",
       "      <td>6757.000000</td>\n",
       "      <td>2997.000000</td>\n",
       "      <td>10000.000000</td>\n",
       "    </tr>\n",
       "    <tr>\n",
       "      <th>mean</th>\n",
       "      <td>8.433700</td>\n",
       "      <td>0.405300</td>\n",
       "      <td>5.292800</td>\n",
       "      <td>9.796359</td>\n",
       "      <td>12.811144</td>\n",
       "      <td>9152.487700</td>\n",
       "    </tr>\n",
       "    <tr>\n",
       "      <th>std</th>\n",
       "      <td>6.660333</td>\n",
       "      <td>0.490975</td>\n",
       "      <td>3.660739</td>\n",
       "      <td>5.055550</td>\n",
       "      <td>4.057049</td>\n",
       "      <td>4881.543001</td>\n",
       "    </tr>\n",
       "    <tr>\n",
       "      <th>min</th>\n",
       "      <td>0.000000</td>\n",
       "      <td>0.000000</td>\n",
       "      <td>1.000000</td>\n",
       "      <td>2.000000</td>\n",
       "      <td>3.000000</td>\n",
       "      <td>186.000000</td>\n",
       "    </tr>\n",
       "    <tr>\n",
       "      <th>25%</th>\n",
       "      <td>3.000000</td>\n",
       "      <td>0.000000</td>\n",
       "      <td>2.000000</td>\n",
       "      <td>5.000000</td>\n",
       "      <td>9.000000</td>\n",
       "      <td>5831.750000</td>\n",
       "    </tr>\n",
       "    <tr>\n",
       "      <th>50%</th>\n",
       "      <td>7.000000</td>\n",
       "      <td>0.000000</td>\n",
       "      <td>5.000000</td>\n",
       "      <td>9.000000</td>\n",
       "      <td>14.000000</td>\n",
       "      <td>8021.500000</td>\n",
       "    </tr>\n",
       "    <tr>\n",
       "      <th>75%</th>\n",
       "      <td>15.000000</td>\n",
       "      <td>1.000000</td>\n",
       "      <td>8.000000</td>\n",
       "      <td>14.000000</td>\n",
       "      <td>16.000000</td>\n",
       "      <td>11922.250000</td>\n",
       "    </tr>\n",
       "    <tr>\n",
       "      <th>max</th>\n",
       "      <td>20.000000</td>\n",
       "      <td>1.000000</td>\n",
       "      <td>18.000000</td>\n",
       "      <td>18.000000</td>\n",
       "      <td>18.000000</td>\n",
       "      <td>23958.000000</td>\n",
       "    </tr>\n",
       "  </tbody>\n",
       "</table>\n",
       "</div>"
      ],
      "text/plain": [
       "         Occupation  Marital_Status  Product_Category_1  Product_Category_2  \\\n",
       "count  10000.000000    10000.000000        10000.000000         6757.000000   \n",
       "mean       8.433700        0.405300            5.292800            9.796359   \n",
       "std        6.660333        0.490975            3.660739            5.055550   \n",
       "min        0.000000        0.000000            1.000000            2.000000   \n",
       "25%        3.000000        0.000000            2.000000            5.000000   \n",
       "50%        7.000000        0.000000            5.000000            9.000000   \n",
       "75%       15.000000        1.000000            8.000000           14.000000   \n",
       "max       20.000000        1.000000           18.000000           18.000000   \n",
       "\n",
       "       Product_Category_3      Purchase  \n",
       "count         2997.000000  10000.000000  \n",
       "mean            12.811144   9152.487700  \n",
       "std              4.057049   4881.543001  \n",
       "min              3.000000    186.000000  \n",
       "25%              9.000000   5831.750000  \n",
       "50%             14.000000   8021.500000  \n",
       "75%             16.000000  11922.250000  \n",
       "max             18.000000  23958.000000  "
      ]
     },
     "execution_count": 4,
     "metadata": {},
     "output_type": "execute_result"
    }
   ],
   "source": [
    "new_dataset.describe()"
   ]
  },
  {
   "cell_type": "code",
   "execution_count": 4,
   "metadata": {},
   "outputs": [
    {
     "data": {
      "text/plain": [
       "(10000, 10)"
      ]
     },
     "execution_count": 4,
     "metadata": {},
     "output_type": "execute_result"
    }
   ],
   "source": [
    "new_dataset.shape"
   ]
  },
  {
   "cell_type": "code",
   "execution_count": 5,
   "metadata": {},
   "outputs": [
    {
     "data": {
      "text/plain": [
       "array([[<matplotlib.axes._subplots.AxesSubplot object at 0x0000027548B3C780>,\n",
       "        <matplotlib.axes._subplots.AxesSubplot object at 0x0000027548B99E48>],\n",
       "       [<matplotlib.axes._subplots.AxesSubplot object at 0x0000027548BCD518>,\n",
       "        <matplotlib.axes._subplots.AxesSubplot object at 0x0000027548BF3BA8>],\n",
       "       [<matplotlib.axes._subplots.AxesSubplot object at 0x0000027548C54278>,\n",
       "        <matplotlib.axes._subplots.AxesSubplot object at 0x0000027548C542B0>]],\n",
       "      dtype=object)"
      ]
     },
     "execution_count": 5,
     "metadata": {},
     "output_type": "execute_result"
    },
    {
     "data": {
      "image/png": "[encoded data removed]",
      "text/plain": [
       "<Figure size 2160x2160 with 6 Axes>"
      ]
     },
     "metadata": {},
     "output_type": "display_data"
    }
   ],
   "source": [
    "# Pretty display for notebooks\n",
    "%matplotlib inline\n",
    "import matplotlib.pyplot as plt\n",
    "new_dataset.hist(bins=30,figsize=(30,30))"
   ]
  },
  {
   "cell_type": "code",
   "execution_count": 6,
   "metadata": {},
   "outputs": [
    {
     "data": {
      "text/plain": [
       "<matplotlib.axes._subplots.AxesSubplot at 0x27549a13400>"
      ]
     },
     "execution_count": 6,
     "metadata": {},
     "output_type": "execute_result"
    },
    {
     "data": {
      "image/png": "[encoded data removed]",
      "text/plain": [
       "<Figure size 432x288 with 1 Axes>"
      ]
     },
     "metadata": {},
     "output_type": "display_data"
    }
   ],
   "source": [
    "\n",
    "import seaborn as sns\n",
    "sns.countplot(new_dataset['Gender'])"
   ]
  },
  {
   "cell_type": "code",
   "execution_count": 7,
   "metadata": {},
   "outputs": [
    {
     "data": {
      "text/plain": [
       "<matplotlib.axes._subplots.AxesSubplot at 0x2754a093898>"
      ]
     },
     "execution_count": 7,
     "metadata": {},
     "output_type": "execute_result"
    },
    {
     "data": {
      "image/png": "[encoded data removed]",
      "text/plain": [
       "<Figure size 432x288 with 1 Axes>"
      ]
     },
     "metadata": {},
     "output_type": "display_data"
    }
   ],
   "source": [
    "sns.countplot(new_dataset['Age'])"
   ]
  },
  {
   "cell_type": "code",
   "execution_count": 8,
   "metadata": {},
   "outputs": [
    {
     "data": {
      "text/plain": [
       "<matplotlib.axes._subplots.AxesSubplot at 0x27549ac7a58>"
      ]
     },
     "execution_count": 8,
     "metadata": {},
     "output_type": "execute_result"
    },
    {
     "data": {
      "image/png": "[encoded data removed]",
      "text/plain": [
       "<Figure size 432x288 with 1 Axes>"
      ]
     },
     "metadata": {},
     "output_type": "display_data"
    }
   ],
   "source": [
    "sns.countplot(new_dataset['City_Category'])"
   ]
  },
  {
   "cell_type": "code",
   "execution_count": 9,
   "metadata": {},
   "outputs": [
    {
     "data": {
      "text/plain": [
       "<matplotlib.axes._subplots.AxesSubplot at 0x27549b22470>"
      ]
     },
     "execution_count": 9,
     "metadata": {},
     "output_type": "execute_result"
    },
    {
     "data": {
      "image/png": "[encoded data removed]",
      "text/plain": [
       "<Figure size 432x288 with 1 Axes>"
      ]
     },
     "metadata": {},
     "output_type": "display_data"
    }
   ],
   "source": [
    "sns.countplot(new_dataset['Stay_In_Current_City_Years'])"
   ]
  },
  {
   "cell_type": "code",
   "execution_count": 10,
   "metadata": {},
   "outputs": [
    {
     "data": {
      "image/png": "[encoded data removed]",
      "text/plain": [
       "<Figure size 432x288 with 1 Axes>"
      ]
     },
     "metadata": {},
     "output_type": "display_data"
    }
   ],
   "source": [
    "# age & purchase\n",
    "import numpy as np\n",
    "df= new_dataset.groupby(['Age','Gender'], as_index=False).agg({'Purchase':np.sum})\n",
    "sns.barplot('Age','Purchase',hue='Gender',data=df)\n",
    "plt.legend(['Male','Female'],frameon=True)\n",
    "plt.show()"
   ]
  },
  {
   "cell_type": "code",
   "execution_count": 11,
   "metadata": {},
   "outputs": [
    {
     "data": {
      "image/png": "[encoded data removed]",
      "text/plain": [
       "<Figure size 432x288 with 1 Axes>"
      ]
     },
     "metadata": {},
     "output_type": "display_data"
    }
   ],
   "source": [
    "# age & city category & purches\n",
    "df = new_dataset.groupby(['Age','City_Category'], as_index=False).agg({'Purchase':np.sum})\n",
    "sns.barplot('Age','Purchase',hue='City_Category',data=df)\n",
    "plt.title('Total purchase')\n",
    "plt.legend(['A','B','C'],frameon=True)\n",
    "plt.show()"
   ]
  },
  {
   "cell_type": "code",
   "execution_count": 12,
   "metadata": {},
   "outputs": [
    {
     "data": {
      "image/png": "[encoded data removed]",
      "text/plain": [
       "<Figure size 432x288 with 1 Axes>"
      ]
     },
     "metadata": {},
     "output_type": "display_data"
    }
   ],
   "source": [
    "# city category & purches\n",
    "df= new_dataset.groupby(['City_Category','Marital_Status'], as_index=False).agg({'Purchase':np.sum})\n",
    "df['Marital_Status']=np.where(df['Marital_Status'] == 0,'Single','Married')\n",
    "sns.barplot('City_Category','Purchase',hue='Marital_Status',data=df,alpha = 0.8)\n",
    "plt.title('Total purchase')\n",
    "plt.show()"
   ]
  },
  {
   "cell_type": "code",
   "execution_count": 13,
   "metadata": {},
   "outputs": [
    {
     "data": {
      "image/png": "[encoded data removed]",
      "text/plain": [
       "<Figure size 432x288 with 1 Axes>"
      ]
     },
     "metadata": {},
     "output_type": "display_data"
    }
   ],
   "source": [
    "# city category & stay in city tears & purches\n",
    "df = new_dataset.groupby(['City_Category','Stay_In_Current_City_Years'], as_index=False).agg({'Purchase':np.sum})\n",
    "sns.barplot('City_Category','Purchase',hue='Stay_In_Current_City_Years',data=df,alpha = 0.8)\n",
    "plt.title('Total purchase')\n",
    "plt.show()"
   ]
  },
  {
   "cell_type": "code",
   "execution_count": 14,
   "metadata": {},
   "outputs": [
    {
     "data": {
      "text/html": [
       "<div>\n",
       "<style scoped>\n",
       "    .dataframe tbody tr th:only-of-type {\n",
       "        vertical-align: middle;\n",
       "    }\n",
       "\n",
       "    .dataframe tbody tr th {\n",
       "        vertical-align: top;\n",
       "    }\n",
       "\n",
       "    .dataframe thead th {\n",
       "        text-align: right;\n",
       "    }\n",
       "</style>\n",
       "<table border=\"1\" class=\"dataframe\">\n",
       "  <thead>\n",
       "    <tr style=\"text-align: right;\">\n",
       "      <th></th>\n",
       "      <th></th>\n",
       "      <th>Purchase</th>\n",
       "    </tr>\n",
       "    <tr>\n",
       "      <th>Age</th>\n",
       "      <th>Product_Category_1</th>\n",
       "      <th></th>\n",
       "    </tr>\n",
       "  </thead>\n",
       "  <tbody>\n",
       "    <tr>\n",
       "      <th rowspan=\"16\" valign=\"top\">0-17</th>\n",
       "      <th>1</th>\n",
       "      <td>93</td>\n",
       "    </tr>\n",
       "    <tr>\n",
       "      <th>2</th>\n",
       "      <td>20</td>\n",
       "    </tr>\n",
       "    <tr>\n",
       "      <th>3</th>\n",
       "      <td>26</td>\n",
       "    </tr>\n",
       "    <tr>\n",
       "      <th>4</th>\n",
       "      <td>20</td>\n",
       "    </tr>\n",
       "    <tr>\n",
       "      <th>5</th>\n",
       "      <td>109</td>\n",
       "    </tr>\n",
       "    <tr>\n",
       "      <th>6</th>\n",
       "      <td>8</td>\n",
       "    </tr>\n",
       "    <tr>\n",
       "      <th>8</th>\n",
       "      <td>49</td>\n",
       "    </tr>\n",
       "    <tr>\n",
       "      <th>10</th>\n",
       "      <td>7</td>\n",
       "    </tr>\n",
       "    <tr>\n",
       "      <th>11</th>\n",
       "      <td>20</td>\n",
       "    </tr>\n",
       "    <tr>\n",
       "      <th>12</th>\n",
       "      <td>4</td>\n",
       "    </tr>\n",
       "    <tr>\n",
       "      <th>13</th>\n",
       "      <td>3</td>\n",
       "    </tr>\n",
       "    <tr>\n",
       "      <th>14</th>\n",
       "      <td>1</td>\n",
       "    </tr>\n",
       "    <tr>\n",
       "      <th>15</th>\n",
       "      <td>5</td>\n",
       "    </tr>\n",
       "    <tr>\n",
       "      <th>16</th>\n",
       "      <td>10</td>\n",
       "    </tr>\n",
       "    <tr>\n",
       "      <th>17</th>\n",
       "      <td>1</td>\n",
       "    </tr>\n",
       "    <tr>\n",
       "      <th>18</th>\n",
       "      <td>2</td>\n",
       "    </tr>\n",
       "    <tr>\n",
       "      <th rowspan=\"14\" valign=\"top\">18-25</th>\n",
       "      <th>1</th>\n",
       "      <td>581</td>\n",
       "    </tr>\n",
       "    <tr>\n",
       "      <th>2</th>\n",
       "      <td>96</td>\n",
       "    </tr>\n",
       "    <tr>\n",
       "      <th>3</th>\n",
       "      <td>103</td>\n",
       "    </tr>\n",
       "    <tr>\n",
       "      <th>4</th>\n",
       "      <td>50</td>\n",
       "    </tr>\n",
       "    <tr>\n",
       "      <th>5</th>\n",
       "      <td>616</td>\n",
       "    </tr>\n",
       "    <tr>\n",
       "      <th>6</th>\n",
       "      <td>90</td>\n",
       "    </tr>\n",
       "    <tr>\n",
       "      <th>7</th>\n",
       "      <td>7</td>\n",
       "    </tr>\n",
       "    <tr>\n",
       "      <th>8</th>\n",
       "      <td>385</td>\n",
       "    </tr>\n",
       "    <tr>\n",
       "      <th>10</th>\n",
       "      <td>12</td>\n",
       "    </tr>\n",
       "    <tr>\n",
       "      <th>11</th>\n",
       "      <td>95</td>\n",
       "    </tr>\n",
       "    <tr>\n",
       "      <th>12</th>\n",
       "      <td>14</td>\n",
       "    </tr>\n",
       "    <tr>\n",
       "      <th>13</th>\n",
       "      <td>13</td>\n",
       "    </tr>\n",
       "    <tr>\n",
       "      <th>14</th>\n",
       "      <td>4</td>\n",
       "    </tr>\n",
       "    <tr>\n",
       "      <th>15</th>\n",
       "      <td>17</td>\n",
       "    </tr>\n",
       "    <tr>\n",
       "      <th>...</th>\n",
       "      <th>...</th>\n",
       "      <td>...</td>\n",
       "    </tr>\n",
       "    <tr>\n",
       "      <th rowspan=\"13\" valign=\"top\">51-55</th>\n",
       "      <th>6</th>\n",
       "      <td>22</td>\n",
       "    </tr>\n",
       "    <tr>\n",
       "      <th>7</th>\n",
       "      <td>4</td>\n",
       "    </tr>\n",
       "    <tr>\n",
       "      <th>8</th>\n",
       "      <td>177</td>\n",
       "    </tr>\n",
       "    <tr>\n",
       "      <th>9</th>\n",
       "      <td>1</td>\n",
       "    </tr>\n",
       "    <tr>\n",
       "      <th>10</th>\n",
       "      <td>8</td>\n",
       "    </tr>\n",
       "    <tr>\n",
       "      <th>11</th>\n",
       "      <td>24</td>\n",
       "    </tr>\n",
       "    <tr>\n",
       "      <th>12</th>\n",
       "      <td>9</td>\n",
       "    </tr>\n",
       "    <tr>\n",
       "      <th>13</th>\n",
       "      <td>14</td>\n",
       "    </tr>\n",
       "    <tr>\n",
       "      <th>14</th>\n",
       "      <td>4</td>\n",
       "    </tr>\n",
       "    <tr>\n",
       "      <th>15</th>\n",
       "      <td>12</td>\n",
       "    </tr>\n",
       "    <tr>\n",
       "      <th>16</th>\n",
       "      <td>3</td>\n",
       "    </tr>\n",
       "    <tr>\n",
       "      <th>17</th>\n",
       "      <td>5</td>\n",
       "    </tr>\n",
       "    <tr>\n",
       "      <th>18</th>\n",
       "      <td>7</td>\n",
       "    </tr>\n",
       "    <tr>\n",
       "      <th rowspan=\"17\" valign=\"top\">55+</th>\n",
       "      <th>1</th>\n",
       "      <td>55</td>\n",
       "    </tr>\n",
       "    <tr>\n",
       "      <th>2</th>\n",
       "      <td>6</td>\n",
       "    </tr>\n",
       "    <tr>\n",
       "      <th>3</th>\n",
       "      <td>6</td>\n",
       "    </tr>\n",
       "    <tr>\n",
       "      <th>4</th>\n",
       "      <td>4</td>\n",
       "    </tr>\n",
       "    <tr>\n",
       "      <th>5</th>\n",
       "      <td>98</td>\n",
       "    </tr>\n",
       "    <tr>\n",
       "      <th>6</th>\n",
       "      <td>10</td>\n",
       "    </tr>\n",
       "    <tr>\n",
       "      <th>7</th>\n",
       "      <td>4</td>\n",
       "    </tr>\n",
       "    <tr>\n",
       "      <th>8</th>\n",
       "      <td>108</td>\n",
       "    </tr>\n",
       "    <tr>\n",
       "      <th>10</th>\n",
       "      <td>2</td>\n",
       "    </tr>\n",
       "    <tr>\n",
       "      <th>11</th>\n",
       "      <td>14</td>\n",
       "    </tr>\n",
       "    <tr>\n",
       "      <th>12</th>\n",
       "      <td>5</td>\n",
       "    </tr>\n",
       "    <tr>\n",
       "      <th>13</th>\n",
       "      <td>1</td>\n",
       "    </tr>\n",
       "    <tr>\n",
       "      <th>14</th>\n",
       "      <td>1</td>\n",
       "    </tr>\n",
       "    <tr>\n",
       "      <th>15</th>\n",
       "      <td>3</td>\n",
       "    </tr>\n",
       "    <tr>\n",
       "      <th>16</th>\n",
       "      <td>4</td>\n",
       "    </tr>\n",
       "    <tr>\n",
       "      <th>17</th>\n",
       "      <td>1</td>\n",
       "    </tr>\n",
       "    <tr>\n",
       "      <th>18</th>\n",
       "      <td>3</td>\n",
       "    </tr>\n",
       "  </tbody>\n",
       "</table>\n",
       "<p>120 rows × 1 columns</p>\n",
       "</div>"
      ],
      "text/plain": [
       "                          Purchase\n",
       "Age   Product_Category_1          \n",
       "0-17  1                         93\n",
       "      2                         20\n",
       "      3                         26\n",
       "      4                         20\n",
       "      5                        109\n",
       "      6                          8\n",
       "      8                         49\n",
       "      10                         7\n",
       "      11                        20\n",
       "      12                         4\n",
       "      13                         3\n",
       "      14                         1\n",
       "      15                         5\n",
       "      16                        10\n",
       "      17                         1\n",
       "      18                         2\n",
       "18-25 1                        581\n",
       "      2                         96\n",
       "      3                        103\n",
       "      4                         50\n",
       "      5                        616\n",
       "      6                         90\n",
       "      7                          7\n",
       "      8                        385\n",
       "      10                        12\n",
       "      11                        95\n",
       "      12                        14\n",
       "      13                        13\n",
       "      14                         4\n",
       "      15                        17\n",
       "...                            ...\n",
       "51-55 6                         22\n",
       "      7                          4\n",
       "      8                        177\n",
       "      9                          1\n",
       "      10                         8\n",
       "      11                        24\n",
       "      12                         9\n",
       "      13                        14\n",
       "      14                         4\n",
       "      15                        12\n",
       "      16                         3\n",
       "      17                         5\n",
       "      18                         7\n",
       "55+   1                         55\n",
       "      2                          6\n",
       "      3                          6\n",
       "      4                          4\n",
       "      5                         98\n",
       "      6                         10\n",
       "      7                          4\n",
       "      8                        108\n",
       "      10                         2\n",
       "      11                        14\n",
       "      12                         5\n",
       "      13                         1\n",
       "      14                         1\n",
       "      15                         3\n",
       "      16                         4\n",
       "      17                         1\n",
       "      18                         3\n",
       "\n",
       "[120 rows x 1 columns]"
      ]
     },
     "execution_count": 14,
     "metadata": {},
     "output_type": "execute_result"
    }
   ],
   "source": [
    "view_df=new_dataset.groupby( [ \"Age\", \"Product_Category_1\"] ).agg({'Purchase':'count'})\n",
    "view_df"
   ]
  },
  {
   "cell_type": "code",
   "execution_count": 15,
   "metadata": {},
   "outputs": [
    {
     "data": {
      "text/plain": [
       "<matplotlib.axes._subplots.AxesSubplot at 0x27549c07d30>"
      ]
     },
     "execution_count": 15,
     "metadata": {},
     "output_type": "execute_result"
    },
    {
     "data": {
      "image/png": "[encoded data removed]",
      "text/plain": [
       "<Figure size 1080x648 with 2 Axes>"
      ]
     },
     "metadata": {},
     "output_type": "display_data"
    }
   ],
   "source": [
    "plt.figure(figsize=(15,9)) \n",
    "sns.heatmap(new_dataset.corr(), vmax=0.9,annot=True, square=True)"
   ]
  },
  {
   "cell_type": "code",
   "execution_count": 16,
   "metadata": {},
   "outputs": [
    {
     "name": "stdout",
     "output_type": "stream",
     "text": [
      "Purchase    0.650394\n",
      "dtype: float64\n"
     ]
    }
   ],
   "source": [
    "print(new_dataset.iloc[:, 9:11].skew())"
   ]
  },
  {
   "cell_type": "code",
   "execution_count": 17,
   "metadata": {},
   "outputs": [
    {
     "name": "stderr",
     "output_type": "stream",
     "text": [
      "C:\\Users\\lenov\\Anaconda3\\lib\\site-packages\\matplotlib\\axes\\_axes.py:6462: UserWarning: The 'normed' kwarg is deprecated, and has been replaced by the 'density' kwarg.\n",
      "  warnings.warn(\"The 'normed' kwarg is deprecated, and has been \"\n"
     ]
    },
    {
     "data": {
      "image/png": "[encoded data removed]",
      "text/plain": [
       "<Figure size 432x288 with 1 Axes>"
      ]
     },
     "metadata": {},
     "output_type": "display_data"
    },
    {
     "data": {
      "image/png": "[encoded data removed]",
      "text/plain": [
       "<Figure size 432x288 with 1 Axes>"
      ]
     },
     "metadata": {},
     "output_type": "display_data"
    }
   ],
   "source": [
    "\n",
    "# to check normalization of target \n",
    "from scipy import stats\n",
    "from scipy.stats import norm, skew\n",
    "sns.distplot(new_dataset['Purchase'] , fit=norm);\n",
    "(mu, sigma) = norm.fit(new_dataset['Purchase'])\n",
    "fig = plt.figure()\n",
    "res = stats.probplot(new_dataset['Purchase'], plot=plt)\n",
    "plt.show()"
   ]
  },
  {
   "cell_type": "code",
   "execution_count": 18,
   "metadata": {},
   "outputs": [
    {
     "name": "stdout",
     "output_type": "stream",
     "text": [
      "Gender                           0\n",
      "Age                              0\n",
      "Occupation                       0\n",
      "City_Category                    0\n",
      "Stay_In_Current_City_Years       0\n",
      "Marital_Status                   0\n",
      "Product_Category_1               0\n",
      "Product_Category_2            3243\n",
      "Product_Category_3            7003\n",
      "Purchase                         0\n",
      "dtype: int64\n"
     ]
    }
   ],
   "source": [
    "#check for nan\n",
    "print(new_dataset.isnull().sum())"
   ]
  },
  {
   "cell_type": "markdown",
   "metadata": {},
   "source": [
    "# 4/ preprocessing"
   ]
  },
  {
   "cell_type": "code",
   "execution_count": 5,
   "metadata": {},
   "outputs": [
    {
     "ename": "NameError",
     "evalue": "name 'sns' is not defined",
     "output_type": "error",
     "traceback": [
      "\u001b[1;31m---------------------------------------------------------------------------\u001b[0m",
      "\u001b[1;31mNameError\u001b[0m                                 Traceback (most recent call last)",
      "\u001b[1;32m<ipython-input-5-891538d5ee1c>\u001b[0m in \u001b[0;36m<module>\u001b[1;34m()\u001b[0m\n\u001b[1;32m----> 1\u001b[1;33m \u001b[0msns\u001b[0m\u001b[1;33m.\u001b[0m\u001b[0mdistplot\u001b[0m\u001b[1;33m(\u001b[0m\u001b[0mnew_dataset\u001b[0m\u001b[1;33m[\u001b[0m\u001b[1;34m'Purchase'\u001b[0m\u001b[1;33m]\u001b[0m \u001b[1;33m,\u001b[0m \u001b[0mfit\u001b[0m\u001b[1;33m=\u001b[0m\u001b[0mnorm\u001b[0m\u001b[1;33m)\u001b[0m\u001b[1;33m;\u001b[0m\u001b[1;33m\u001b[0m\u001b[0m\n\u001b[0m\u001b[0;32m      2\u001b[0m \u001b[1;33m(\u001b[0m\u001b[0mmu\u001b[0m\u001b[1;33m,\u001b[0m \u001b[0msigma\u001b[0m\u001b[1;33m)\u001b[0m \u001b[1;33m=\u001b[0m \u001b[0mnorm\u001b[0m\u001b[1;33m.\u001b[0m\u001b[0mfit\u001b[0m\u001b[1;33m(\u001b[0m\u001b[0mnew_dataset\u001b[0m\u001b[1;33m[\u001b[0m\u001b[1;34m'Purchase'\u001b[0m\u001b[1;33m]\u001b[0m\u001b[1;33m)\u001b[0m\u001b[1;33m\u001b[0m\u001b[0m\n\u001b[0;32m      3\u001b[0m \u001b[0mfig\u001b[0m \u001b[1;33m=\u001b[0m \u001b[0mplt\u001b[0m\u001b[1;33m.\u001b[0m\u001b[0mfigure\u001b[0m\u001b[1;33m(\u001b[0m\u001b[1;33m)\u001b[0m\u001b[1;33m\u001b[0m\u001b[0m\n\u001b[0;32m      4\u001b[0m \u001b[0mres\u001b[0m \u001b[1;33m=\u001b[0m \u001b[0mstats\u001b[0m\u001b[1;33m.\u001b[0m\u001b[0mprobplot\u001b[0m\u001b[1;33m(\u001b[0m\u001b[0mnew_dataset\u001b[0m\u001b[1;33m[\u001b[0m\u001b[1;34m'Purchase'\u001b[0m\u001b[1;33m]\u001b[0m\u001b[1;33m,\u001b[0m \u001b[0mplot\u001b[0m\u001b[1;33m=\u001b[0m\u001b[0mplt\u001b[0m\u001b[1;33m)\u001b[0m\u001b[1;33m\u001b[0m\u001b[0m\n\u001b[0;32m      5\u001b[0m \u001b[0mplt\u001b[0m\u001b[1;33m.\u001b[0m\u001b[0mshow\u001b[0m\u001b[1;33m(\u001b[0m\u001b[1;33m)\u001b[0m\u001b[1;33m\u001b[0m\u001b[0m\n",
      "\u001b[1;31mNameError\u001b[0m: name 'sns' is not defined"
     ]
    }
   ],
   "source": [
    "sns.distplot(new_dataset['Purchase'] , fit=norm);\n",
    "(mu, sigma) = norm.fit(new_dataset['Purchase'])\n",
    "fig = plt.figure()\n",
    "res = stats.probplot(new_dataset['Purchase'], plot=plt)\n",
    "plt.show()"
   ]
  },
  {
   "cell_type": "code",
   "execution_count": null,
   "metadata": {},
   "outputs": [],
   "source": [
    "# to normalize the output \n",
    "from scipy.stats import boxcox\n",
    "new_dataset['Purchase'], lam = boxcox(new_dataset['Purchase'])\n",
    "print('Lambda: %f' % lam)"
   ]
  },
  {
   "cell_type": "raw",
   "metadata": {},
   "source": [
    "# 4.1missing data"
   ]
  },
  {
   "cell_type": "code",
   "execution_count": 6,
   "metadata": {},
   "outputs": [
    {
     "name": "stdout",
     "output_type": "stream",
     "text": [
      "      Product_Category_2  Product_Category_3\n",
      "0               9.796359           12.811144\n",
      "1               6.000000           14.000000\n",
      "2               9.796359           12.811144\n",
      "3              14.000000           12.811144\n",
      "4               9.796359           12.811144\n",
      "5               2.000000           12.811144\n",
      "6               8.000000           17.000000\n",
      "7              15.000000           12.811144\n",
      "8              16.000000           12.811144\n",
      "9               9.796359           12.811144\n",
      "10             11.000000           12.811144\n",
      "11              9.796359           12.811144\n",
      "12              9.796359           12.811144\n",
      "13              2.000000            5.000000\n",
      "14              8.000000           14.000000\n",
      "15              5.000000           12.811144\n",
      "16              3.000000            4.000000\n",
      "17             14.000000           12.811144\n",
      "18             14.000000           16.000000\n",
      "19              5.000000           15.000000\n",
      "20             14.000000           12.811144\n",
      "21              9.796359           12.811144\n",
      "22              9.796359           12.811144\n",
      "23              9.796359           12.811144\n",
      "24              8.000000           14.000000\n",
      "25              8.000000           12.811144\n",
      "26              9.796359           12.811144\n",
      "27             14.000000           12.811144\n",
      "28              8.000000           14.000000\n",
      "29              4.000000            8.000000\n",
      "...                  ...                 ...\n",
      "9970            8.000000           17.000000\n",
      "9971           15.000000           16.000000\n",
      "9972            9.796359           12.811144\n",
      "9973            9.796359           12.811144\n",
      "9974            2.000000            8.000000\n",
      "9975            9.796359           12.811144\n",
      "9976            2.000000           15.000000\n",
      "9977           11.000000           12.811144\n",
      "9978            9.796359           12.811144\n",
      "9979            9.796359           12.811144\n",
      "9980           11.000000           16.000000\n",
      "9981            8.000000           12.811144\n",
      "9982            9.796359           12.811144\n",
      "9983           10.000000           16.000000\n",
      "9984           12.000000           12.811144\n",
      "9985           12.000000           17.000000\n",
      "9986            8.000000           12.811144\n",
      "9987           14.000000           12.811144\n",
      "9988           11.000000           16.000000\n",
      "9989            9.796359           12.811144\n",
      "9990            2.000000           16.000000\n",
      "9991            9.796359           12.811144\n",
      "9992            9.796359           12.811144\n",
      "9993           14.000000           12.811144\n",
      "9994            8.000000           12.811144\n",
      "9995           15.000000           16.000000\n",
      "9996            8.000000           12.000000\n",
      "9997            4.000000            9.000000\n",
      "9998            9.796359           12.811144\n",
      "9999           18.000000           12.811144\n",
      "\n",
      "[10000 rows x 2 columns]\n"
     ]
    }
   ],
   "source": [
    "# column 7,8 ' Product_Category_2 , Product_Category_3'\n",
    "from sklearn.preprocessing import Imputer\n",
    "imputer = Imputer(missing_values = 'NaN', strategy = 'mean', axis = 0)\n",
    "imputer = imputer.fit(new_dataset.iloc[:, 7:9])\n",
    "new_dataset.iloc[:, 7:9] = imputer.transform(new_dataset.iloc[:, 7:9])\n",
    "print(new_dataset.iloc[:, 7:9])"
   ]
  },
  {
   "cell_type": "code",
   "execution_count": 7,
   "metadata": {},
   "outputs": [
    {
     "name": "stdout",
     "output_type": "stream",
     "text": [
      "Gender                        0\n",
      "Age                           0\n",
      "Occupation                    0\n",
      "City_Category                 0\n",
      "Stay_In_Current_City_Years    0\n",
      "Marital_Status                0\n",
      "Product_Category_1            0\n",
      "Product_Category_2            0\n",
      "Product_Category_3            0\n",
      "Purchase                      0\n",
      "dtype: int64\n"
     ]
    }
   ],
   "source": [
    "#check for nan\n",
    "print(new_dataset.isnull().sum())"
   ]
  },
  {
   "cell_type": "raw",
   "metadata": {},
   "source": [
    "\n",
    "#  data encoding "
   ]
  },
  {
   "cell_type": "code",
   "execution_count": 8,
   "metadata": {},
   "outputs": [
    {
     "name": "stdout",
     "output_type": "stream",
     "text": [
      "{'Age': {'0-17': 1, '18-25': 2, '26-35': 3, '36-45': 4, '46-50': 5, '51-55': 6, '55+': 7}}\n",
      "  Gender  Age  Occupation City_Category Stay_In_Current_City_Years  \\\n",
      "0      F    1          10             A                          2   \n",
      "1      F    1          10             A                          2   \n",
      "2      F    1          10             A                          2   \n",
      "3      F    1          10             A                          2   \n",
      "4      M    7          16             C                         4+   \n",
      "\n",
      "   Marital_Status  Product_Category_1  Product_Category_2  Product_Category_3  \\\n",
      "0               0                   3            9.796359           12.811144   \n",
      "1               0                   1            6.000000           14.000000   \n",
      "2               0                  12            9.796359           12.811144   \n",
      "3               0                  12           14.000000           12.811144   \n",
      "4               0                   8            9.796359           12.811144   \n",
      "\n",
      "   Purchase  \n",
      "0      8370  \n",
      "1     15200  \n",
      "2      1422  \n",
      "3      1057  \n",
      "4      7969  \n"
     ]
    }
   ],
   "source": [
    "# column=1 , 'Age'\n",
    "dict={'Age':{'0-17':0,'18-25':1,'26-35':2,'36-45':3,'46-50':4,'51:55':5,'55+':6}}\n",
    "columns=new_dataset['Age'].astype('category').cat.categories.tolist()\n",
    "map={'Age':{k:v for k,v in zip (columns,list(range(1,len(columns)+1)))}}\n",
    "print(map)\n",
    "new_dataset=new_dataset.copy()\n",
    "new_dataset.replace(map, inplace=True)\n",
    "print(new_dataset.head())"
   ]
  },
  {
   "cell_type": "code",
   "execution_count": 9,
   "metadata": {},
   "outputs": [
    {
     "name": "stdout",
     "output_type": "stream",
     "text": [
      "      Age  Occupation City_Category Stay_In_Current_City_Years  \\\n",
      "0       1          10             A                          2   \n",
      "1       1          10             A                          2   \n",
      "2       1          10             A                          2   \n",
      "3       1          10             A                          2   \n",
      "4       7          16             C                         4+   \n",
      "5       3          15             A                          3   \n",
      "6       5           7             B                          2   \n",
      "7       5           7             B                          2   \n",
      "8       5           7             B                          2   \n",
      "9       3          20             A                          1   \n",
      "10      3          20             A                          1   \n",
      "11      3          20             A                          1   \n",
      "12      3          20             A                          1   \n",
      "13      3          20             A                          1   \n",
      "14      6           9             A                          1   \n",
      "15      6           9             A                          1   \n",
      "16      6           9             A                          1   \n",
      "17      6           9             A                          1   \n",
      "18      4           1             B                          1   \n",
      "19      3          12             C                         4+   \n",
      "20      3          12             C                         4+   \n",
      "21      3          12             C                         4+   \n",
      "22      3          12             C                         4+   \n",
      "23      3          12             C                         4+   \n",
      "24      3          12             C                         4+   \n",
      "25      3          17             C                          0   \n",
      "26      3          17             C                          0   \n",
      "27      3          17             C                          0   \n",
      "28      3          17             C                          0   \n",
      "29      4           1             B                         4+   \n",
      "...   ...         ...           ...                        ...   \n",
      "9970    3          17             C                          0   \n",
      "9971    3          17             C                          0   \n",
      "9972    2           4             B                          1   \n",
      "9973    2           4             B                          1   \n",
      "9974    2           4             B                          1   \n",
      "9975    2           4             B                          1   \n",
      "9976    2           4             B                          1   \n",
      "9977    2           4             B                          1   \n",
      "9978    2           4             B                          1   \n",
      "9979    2           4             B                          1   \n",
      "9980    2           4             B                          1   \n",
      "9981    3          16             B                          3   \n",
      "9982    3          16             B                          3   \n",
      "9983    3          16             B                          3   \n",
      "9984    3          16             B                          3   \n",
      "9985    3          16             B                          3   \n",
      "9986    7          17             C                         4+   \n",
      "9987    7          17             C                         4+   \n",
      "9988    2          10             C                          1   \n",
      "9989    2          10             C                          1   \n",
      "9990    2          10             C                          1   \n",
      "9991    2          10             C                          1   \n",
      "9992    2          10             C                          1   \n",
      "9993    3          15             C                          1   \n",
      "9994    3           4             A                          1   \n",
      "9995    3           4             A                          1   \n",
      "9996    3           4             A                          1   \n",
      "9997    3           4             A                          1   \n",
      "9998    3           4             A                          1   \n",
      "9999    3           4             A                          1   \n",
      "\n",
      "      Marital_Status  Product_Category_1  Product_Category_2  \\\n",
      "0                  0                   3            9.796359   \n",
      "1                  0                   1            6.000000   \n",
      "2                  0                  12            9.796359   \n",
      "3                  0                  12           14.000000   \n",
      "4                  0                   8            9.796359   \n",
      "5                  0                   1            2.000000   \n",
      "6                  1                   1            8.000000   \n",
      "7                  1                   1           15.000000   \n",
      "8                  1                   1           16.000000   \n",
      "9                  1                   8            9.796359   \n",
      "10                 1                   5           11.000000   \n",
      "11                 1                   8            9.796359   \n",
      "12                 1                   8            9.796359   \n",
      "13                 1                   1            2.000000   \n",
      "14                 0                   5            8.000000   \n",
      "15                 0                   4            5.000000   \n",
      "16                 0                   2            3.000000   \n",
      "17                 0                   5           14.000000   \n",
      "18                 1                   1           14.000000   \n",
      "19                 1                   1            5.000000   \n",
      "20                 1                   5           14.000000   \n",
      "21                 1                   8            9.796359   \n",
      "22                 1                   8            9.796359   \n",
      "23                 1                   8            9.796359   \n",
      "24                 1                   1            8.000000   \n",
      "25                 0                   6            8.000000   \n",
      "26                 0                   8            9.796359   \n",
      "27                 0                   5           14.000000   \n",
      "28                 0                   5            8.000000   \n",
      "29                 1                   2            4.000000   \n",
      "...              ...                 ...                 ...   \n",
      "9970               0                   1            8.000000   \n",
      "9971               0                   1           15.000000   \n",
      "9972               0                   8            9.796359   \n",
      "9973               0                  11            9.796359   \n",
      "9974               0                   1            2.000000   \n",
      "9975               0                   5            9.796359   \n",
      "9976               0                   1            2.000000   \n",
      "9977               0                   8           11.000000   \n",
      "9978               0                  11            9.796359   \n",
      "9979               0                   8            9.796359   \n",
      "9980               0                   5           11.000000   \n",
      "9981               1                   6            8.000000   \n",
      "9982               1                   5            9.796359   \n",
      "9983               1                   6           10.000000   \n",
      "9984               1                   5           12.000000   \n",
      "9985               1                   8           12.000000   \n",
      "9986               1                   5            8.000000   \n",
      "9987               1                   5           14.000000   \n",
      "9988               1                   5           11.000000   \n",
      "9989               1                   8            9.796359   \n",
      "9990               1                   1            2.000000   \n",
      "9991               1                   8            9.796359   \n",
      "9992               1                   5            9.796359   \n",
      "9993               0                   5           14.000000   \n",
      "9994               1                   6            8.000000   \n",
      "9995               1                   8           15.000000   \n",
      "9996               1                   5            8.000000   \n",
      "9997               1                   2            4.000000   \n",
      "9998               1                  11            9.796359   \n",
      "9999               1                   5           18.000000   \n",
      "\n",
      "      Product_Category_3  Purchase  F  M  \n",
      "0              12.811144      8370  1  0  \n",
      "1              14.000000     15200  1  0  \n",
      "2              12.811144      1422  1  0  \n",
      "3              12.811144      1057  1  0  \n",
      "4              12.811144      7969  0  1  \n",
      "5              12.811144     15227  0  1  \n",
      "6              17.000000     19215  0  1  \n",
      "7              12.811144     15854  0  1  \n",
      "8              12.811144     15686  0  1  \n",
      "9              12.811144      7871  0  1  \n",
      "10             12.811144      5254  0  1  \n",
      "11             12.811144      3957  0  1  \n",
      "12             12.811144      6073  0  1  \n",
      "13              5.000000     15665  0  1  \n",
      "14             14.000000      5378  1  0  \n",
      "15             12.811144      2079  1  0  \n",
      "16              4.000000     13055  1  0  \n",
      "17             12.811144      8851  1  0  \n",
      "18             16.000000     11788  0  1  \n",
      "19             15.000000     19614  0  1  \n",
      "20             12.811144      8584  0  1  \n",
      "21             12.811144      9872  0  1  \n",
      "22             12.811144      9743  0  1  \n",
      "23             12.811144      5982  0  1  \n",
      "24             14.000000     11927  0  1  \n",
      "25             12.811144     16662  0  1  \n",
      "26             12.811144      5887  0  1  \n",
      "27             12.811144      6973  0  1  \n",
      "28             14.000000      5391  0  1  \n",
      "29              8.000000     16352  1  0  \n",
      "...                  ...       ... .. ..  \n",
      "9970           17.000000     19671  0  1  \n",
      "9971           16.000000     11981  0  1  \n",
      "9972           12.811144      1939  0  1  \n",
      "9973           12.811144      4468  0  1  \n",
      "9974            8.000000     19126  0  1  \n",
      "9975           12.811144      1895  0  1  \n",
      "9976           15.000000     11815  0  1  \n",
      "9977           12.811144      9851  0  1  \n",
      "9978           12.811144      7549  0  1  \n",
      "9979           12.811144      8004  0  1  \n",
      "9980           16.000000      8661  0  1  \n",
      "9981           12.811144     16386  1  0  \n",
      "9982           12.811144      5174  1  0  \n",
      "9983           16.000000     12650  1  0  \n",
      "9984           12.811144      5200  1  0  \n",
      "9985           17.000000      3962  1  0  \n",
      "9986           12.811144      7103  0  1  \n",
      "9987           12.811144      7018  0  1  \n",
      "9988           16.000000      5337  0  1  \n",
      "9989           12.811144      8009  0  1  \n",
      "9990           16.000000     12039  0  1  \n",
      "9991           12.811144      9798  0  1  \n",
      "9992           12.811144      8686  0  1  \n",
      "9993           12.811144      8743  0  1  \n",
      "9994           12.811144     20138  0  1  \n",
      "9995           16.000000      7967  0  1  \n",
      "9996           12.000000      8590  0  1  \n",
      "9997            9.000000     13147  0  1  \n",
      "9998           12.811144      5975  0  1  \n",
      "9999           12.811144      8653  0  1  \n",
      "\n",
      "[10000 rows x 11 columns]\n"
     ]
    }
   ],
   "source": [
    "dummy = pd.get_dummies(new_dataset['Gender'])\n",
    "new_dataset = pd.concat([new_dataset,dummy],axis=1)\n",
    "new_dataset.drop(['Gender'], axis=1,inplace = True)\n",
    "print(new_dataset)"
   ]
  },
  {
   "cell_type": "code",
   "execution_count": 10,
   "metadata": {},
   "outputs": [
    {
     "name": "stdout",
     "output_type": "stream",
     "text": [
      "      Age  Occupation Stay_In_Current_City_Years  Marital_Status  \\\n",
      "0       1          10                          2               0   \n",
      "1       1          10                          2               0   \n",
      "2       1          10                          2               0   \n",
      "3       1          10                          2               0   \n",
      "4       7          16                         4+               0   \n",
      "5       3          15                          3               0   \n",
      "6       5           7                          2               1   \n",
      "7       5           7                          2               1   \n",
      "8       5           7                          2               1   \n",
      "9       3          20                          1               1   \n",
      "10      3          20                          1               1   \n",
      "11      3          20                          1               1   \n",
      "12      3          20                          1               1   \n",
      "13      3          20                          1               1   \n",
      "14      6           9                          1               0   \n",
      "15      6           9                          1               0   \n",
      "16      6           9                          1               0   \n",
      "17      6           9                          1               0   \n",
      "18      4           1                          1               1   \n",
      "19      3          12                         4+               1   \n",
      "20      3          12                         4+               1   \n",
      "21      3          12                         4+               1   \n",
      "22      3          12                         4+               1   \n",
      "23      3          12                         4+               1   \n",
      "24      3          12                         4+               1   \n",
      "25      3          17                          0               0   \n",
      "26      3          17                          0               0   \n",
      "27      3          17                          0               0   \n",
      "28      3          17                          0               0   \n",
      "29      4           1                         4+               1   \n",
      "...   ...         ...                        ...             ...   \n",
      "9970    3          17                          0               0   \n",
      "9971    3          17                          0               0   \n",
      "9972    2           4                          1               0   \n",
      "9973    2           4                          1               0   \n",
      "9974    2           4                          1               0   \n",
      "9975    2           4                          1               0   \n",
      "9976    2           4                          1               0   \n",
      "9977    2           4                          1               0   \n",
      "9978    2           4                          1               0   \n",
      "9979    2           4                          1               0   \n",
      "9980    2           4                          1               0   \n",
      "9981    3          16                          3               1   \n",
      "9982    3          16                          3               1   \n",
      "9983    3          16                          3               1   \n",
      "9984    3          16                          3               1   \n",
      "9985    3          16                          3               1   \n",
      "9986    7          17                         4+               1   \n",
      "9987    7          17                         4+               1   \n",
      "9988    2          10                          1               1   \n",
      "9989    2          10                          1               1   \n",
      "9990    2          10                          1               1   \n",
      "9991    2          10                          1               1   \n",
      "9992    2          10                          1               1   \n",
      "9993    3          15                          1               0   \n",
      "9994    3           4                          1               1   \n",
      "9995    3           4                          1               1   \n",
      "9996    3           4                          1               1   \n",
      "9997    3           4                          1               1   \n",
      "9998    3           4                          1               1   \n",
      "9999    3           4                          1               1   \n",
      "\n",
      "      Product_Category_1  Product_Category_2  Product_Category_3  Purchase  F  \\\n",
      "0                      3            9.796359           12.811144      8370  1   \n",
      "1                      1            6.000000           14.000000     15200  1   \n",
      "2                     12            9.796359           12.811144      1422  1   \n",
      "3                     12           14.000000           12.811144      1057  1   \n",
      "4                      8            9.796359           12.811144      7969  0   \n",
      "5                      1            2.000000           12.811144     15227  0   \n",
      "6                      1            8.000000           17.000000     19215  0   \n",
      "7                      1           15.000000           12.811144     15854  0   \n",
      "8                      1           16.000000           12.811144     15686  0   \n",
      "9                      8            9.796359           12.811144      7871  0   \n",
      "10                     5           11.000000           12.811144      5254  0   \n",
      "11                     8            9.796359           12.811144      3957  0   \n",
      "12                     8            9.796359           12.811144      6073  0   \n",
      "13                     1            2.000000            5.000000     15665  0   \n",
      "14                     5            8.000000           14.000000      5378  1   \n",
      "15                     4            5.000000           12.811144      2079  1   \n",
      "16                     2            3.000000            4.000000     13055  1   \n",
      "17                     5           14.000000           12.811144      8851  1   \n",
      "18                     1           14.000000           16.000000     11788  0   \n",
      "19                     1            5.000000           15.000000     19614  0   \n",
      "20                     5           14.000000           12.811144      8584  0   \n",
      "21                     8            9.796359           12.811144      9872  0   \n",
      "22                     8            9.796359           12.811144      9743  0   \n",
      "23                     8            9.796359           12.811144      5982  0   \n",
      "24                     1            8.000000           14.000000     11927  0   \n",
      "25                     6            8.000000           12.811144     16662  0   \n",
      "26                     8            9.796359           12.811144      5887  0   \n",
      "27                     5           14.000000           12.811144      6973  0   \n",
      "28                     5            8.000000           14.000000      5391  0   \n",
      "29                     2            4.000000            8.000000     16352  1   \n",
      "...                  ...                 ...                 ...       ... ..   \n",
      "9970                   1            8.000000           17.000000     19671  0   \n",
      "9971                   1           15.000000           16.000000     11981  0   \n",
      "9972                   8            9.796359           12.811144      1939  0   \n",
      "9973                  11            9.796359           12.811144      4468  0   \n",
      "9974                   1            2.000000            8.000000     19126  0   \n",
      "9975                   5            9.796359           12.811144      1895  0   \n",
      "9976                   1            2.000000           15.000000     11815  0   \n",
      "9977                   8           11.000000           12.811144      9851  0   \n",
      "9978                  11            9.796359           12.811144      7549  0   \n",
      "9979                   8            9.796359           12.811144      8004  0   \n",
      "9980                   5           11.000000           16.000000      8661  0   \n",
      "9981                   6            8.000000           12.811144     16386  1   \n",
      "9982                   5            9.796359           12.811144      5174  1   \n",
      "9983                   6           10.000000           16.000000     12650  1   \n",
      "9984                   5           12.000000           12.811144      5200  1   \n",
      "9985                   8           12.000000           17.000000      3962  1   \n",
      "9986                   5            8.000000           12.811144      7103  0   \n",
      "9987                   5           14.000000           12.811144      7018  0   \n",
      "9988                   5           11.000000           16.000000      5337  0   \n",
      "9989                   8            9.796359           12.811144      8009  0   \n",
      "9990                   1            2.000000           16.000000     12039  0   \n",
      "9991                   8            9.796359           12.811144      9798  0   \n",
      "9992                   5            9.796359           12.811144      8686  0   \n",
      "9993                   5           14.000000           12.811144      8743  0   \n",
      "9994                   6            8.000000           12.811144     20138  0   \n",
      "9995                   8           15.000000           16.000000      7967  0   \n",
      "9996                   5            8.000000           12.000000      8590  0   \n",
      "9997                   2            4.000000            9.000000     13147  0   \n",
      "9998                  11            9.796359           12.811144      5975  0   \n",
      "9999                   5           18.000000           12.811144      8653  0   \n",
      "\n",
      "      M  City_Category_A  City_Category_B  City_Category_C  \n",
      "0     0                1                0                0  \n",
      "1     0                1                0                0  \n",
      "2     0                1                0                0  \n",
      "3     0                1                0                0  \n",
      "4     1                0                0                1  \n",
      "5     1                1                0                0  \n",
      "6     1                0                1                0  \n",
      "7     1                0                1                0  \n",
      "8     1                0                1                0  \n",
      "9     1                1                0                0  \n",
      "10    1                1                0                0  \n",
      "11    1                1                0                0  \n",
      "12    1                1                0                0  \n",
      "13    1                1                0                0  \n",
      "14    0                1                0                0  \n",
      "15    0                1                0                0  \n",
      "16    0                1                0                0  \n",
      "17    0                1                0                0  \n",
      "18    1                0                1                0  \n",
      "19    1                0                0                1  \n",
      "20    1                0                0                1  \n",
      "21    1                0                0                1  \n",
      "22    1                0                0                1  \n",
      "23    1                0                0                1  \n",
      "24    1                0                0                1  \n",
      "25    1                0                0                1  \n",
      "26    1                0                0                1  \n",
      "27    1                0                0                1  \n",
      "28    1                0                0                1  \n",
      "29    0                0                1                0  \n",
      "...  ..              ...              ...              ...  \n",
      "9970  1                0                0                1  \n",
      "9971  1                0                0                1  \n",
      "9972  1                0                1                0  \n",
      "9973  1                0                1                0  \n",
      "9974  1                0                1                0  \n",
      "9975  1                0                1                0  \n",
      "9976  1                0                1                0  \n",
      "9977  1                0                1                0  \n",
      "9978  1                0                1                0  \n",
      "9979  1                0                1                0  \n",
      "9980  1                0                1                0  \n",
      "9981  0                0                1                0  \n",
      "9982  0                0                1                0  \n",
      "9983  0                0                1                0  \n",
      "9984  0                0                1                0  \n",
      "9985  0                0                1                0  \n",
      "9986  1                0                0                1  \n",
      "9987  1                0                0                1  \n",
      "9988  1                0                0                1  \n",
      "9989  1                0                0                1  \n",
      "9990  1                0                0                1  \n",
      "9991  1                0                0                1  \n",
      "9992  1                0                0                1  \n",
      "9993  1                0                0                1  \n",
      "9994  1                1                0                0  \n",
      "9995  1                1                0                0  \n",
      "9996  1                1                0                0  \n",
      "9997  1                1                0                0  \n",
      "9998  1                1                0                0  \n",
      "9999  1                1                0                0  \n",
      "\n",
      "[10000 rows x 13 columns]\n"
     ]
    }
   ],
   "source": [
    "Dummy_variable=pd.get_dummies(new_dataset['City_Category'],  prefix='City_Category')\n",
    "\n",
    "new_dataset = pd.concat([new_dataset, Dummy_variable], axis=1)\n",
    "# Drop the previous rank column\n",
    "new_dataset= new_dataset.drop('City_Category', axis=1)\n",
    "print(new_dataset)\n"
   ]
  },
  {
   "cell_type": "code",
   "execution_count": 11,
   "metadata": {},
   "outputs": [
    {
     "name": "stdout",
     "output_type": "stream",
     "text": [
      "{'Stay_In_Current_City_Years': {'0': 1, '1': 2, '2': 3, '3': 4, '4+': 5}}\n",
      "   Age  Occupation  Stay_In_Current_City_Years  Marital_Status  \\\n",
      "0    1          10                           3               0   \n",
      "1    1          10                           3               0   \n",
      "2    1          10                           3               0   \n",
      "3    1          10                           3               0   \n",
      "4    7          16                           5               0   \n",
      "\n",
      "   Product_Category_1  Product_Category_2  Product_Category_3  Purchase  F  M  \\\n",
      "0                   3            9.796359           12.811144      8370  1  0   \n",
      "1                   1            6.000000           14.000000     15200  1  0   \n",
      "2                  12            9.796359           12.811144      1422  1  0   \n",
      "3                  12           14.000000           12.811144      1057  1  0   \n",
      "4                   8            9.796359           12.811144      7969  0  1   \n",
      "\n",
      "   City_Category_A  City_Category_B  City_Category_C  \n",
      "0                1                0                0  \n",
      "1                1                0                0  \n",
      "2                1                0                0  \n",
      "3                1                0                0  \n",
      "4                0                0                1  \n"
     ]
    }
   ],
   "source": [
    "# column=2 , 'Stay_In_Current_City_Years'\n",
    "dict={'Stay_In_Current_City_Years':{'0':0,'1':1,'2':2,'3':3,' 4+':4}}\n",
    "columns=new_dataset['Stay_In_Current_City_Years'].astype('category').cat.categories.tolist()\n",
    "map={'Stay_In_Current_City_Years':{k:v for k,v in zip (columns,list(range(1,len(columns)+1)))}}\n",
    "print(map)\n",
    "new_dataset=new_dataset.copy()\n",
    "new_dataset.replace(map, inplace=True)\n",
    "print(new_dataset.head())"
   ]
  },
  {
   "cell_type": "markdown",
   "metadata": {},
   "source": [
    "# 3/ Splitting Data"
   ]
  },
  {
   "cell_type": "code",
   "execution_count": 12,
   "metadata": {
    "scrolled": true
   },
   "outputs": [
    {
     "name": "stdout",
     "output_type": "stream",
     "text": [
      "   Age  Occupation  Stay_In_Current_City_Years  Marital_Status  \\\n",
      "0    1          10                           3               0   \n",
      "1    1          10                           3               0   \n",
      "2    1          10                           3               0   \n",
      "3    1          10                           3               0   \n",
      "4    7          16                           5               0   \n",
      "\n",
      "   Product_Category_1  Product_Category_2  Product_Category_3  F  M  \\\n",
      "0                   3            9.796359           12.811144  1  0   \n",
      "1                   1            6.000000           14.000000  1  0   \n",
      "2                  12            9.796359           12.811144  1  0   \n",
      "3                  12           14.000000           12.811144  1  0   \n",
      "4                   8            9.796359           12.811144  0  1   \n",
      "\n",
      "   City_Category_A  City_Category_B  City_Category_C  \n",
      "0                1                0                0  \n",
      "1                1                0                0  \n",
      "2                1                0                0  \n",
      "3                1                0                0  \n",
      "4                0                0                1  \n",
      "************\n",
      "0     8370\n",
      "1    15200\n",
      "2     1422\n",
      "3     1057\n",
      "4     7969\n",
      "Name: Purchase, dtype: int32\n"
     ]
    },
    {
     "data": {
      "text/plain": [
       "((10000, 12), (10000,))"
      ]
     },
     "execution_count": 12,
     "metadata": {},
     "output_type": "execute_result"
    }
   ],
   "source": [
    "features=new_dataset.drop('Purchase' , axis=1)\n",
    "target=new_dataset[\"Purchase\"]\n",
    "target=target.astype('int')\n",
    "\n",
    "print(features[:5])\n",
    "print('************')\n",
    "print(target[:5])\n",
    "features.shape,target.shape"
   ]
  },
  {
   "cell_type": "markdown",
   "metadata": {},
   "source": [
    "# test & train"
   ]
  },
  {
   "cell_type": "code",
   "execution_count": 28,
   "metadata": {},
   "outputs": [
    {
     "name": "stderr",
     "output_type": "stream",
     "text": [
      "C:\\Users\\lenov\\Anaconda3\\lib\\site-packages\\sklearn\\cross_validation.py:41: DeprecationWarning: This module was deprecated in version 0.18 in favor of the model_selection module into which all the refactored classes and functions are moved. Also note that the interface of the new CV iterators are different from that of this module. This module will be removed in 0.20.\n",
      "  \"This module will be removed in 0.20.\", DeprecationWarning)\n"
     ]
    }
   ],
   "source": [
    "# cross validation \n",
    "from sklearn import cross_validation\n",
    "from sklearn.cross_validation import KFold, cross_val_score\n",
    "featuer_train, featuer_test, target_train, target_test = cross_validation.train_test_split(features, target,\\\n",
    "                                                              test_size=0.4,random_state=43)\n",
    "\n",
    "k_fold = KFold(len(target), n_folds=10, shuffle=True,random_state=10)"
   ]
  },
  {
   "cell_type": "markdown",
   "metadata": {},
   "source": [
    "# 4/ Regression  model"
   ]
  },
  {
   "cell_type": "code",
   "execution_count": 38,
   "metadata": {},
   "outputs": [
    {
     "name": "stdout",
     "output_type": "stream",
     "text": [
      "RMSE : 1001.4755192097427\n",
      "**************\n",
      "mean square ERROR: 30.6381774094206\n",
      "**************\n"
     ]
    }
   ],
   "source": [
    "# 1-RandomForest Model +Evaluation\n",
    "from sklearn.ensemble import RandomForestRegressor\n",
    "\n",
    "model = RandomForestRegressor()\n",
    "model.fit( featuer_train, target_train)\n",
    "predict = cross_validation.cross_val_predict(model,  featuer_test, target_test,cv=10)\n",
    "'''\n",
    "score_1 =  cross_validation.cross_val_score(model, featuer_test, target_test, cv=10)\n",
    "print(score_1)\n",
    "'''\n",
    "\n",
    "from sklearn.metrics import mean_squared_error\n",
    "score_2=mean_squared_error(target_test, predict)\n",
    "print('RMSE :',score_2)\n",
    "\n",
    "print('**************')\n",
    "\n",
    "\n",
    "from math import sqrt\n",
    "score_3 = sqrt(abs(cross_val_score(RandomForestRegressor(), features, target, cv= k_fold ,scoring='neg_mean_squared_error').mean()))\n",
    "print('mean square ERROR:',score_3)\n",
    "print('**************')"
   ]
  },
  {
   "cell_type": "code",
   "execution_count": 39,
   "metadata": {},
   "outputs": [
    {
     "name": "stdout",
     "output_type": "stream",
     "text": [
      "Best parameter: RandomForestRegressor(bootstrap=True, criterion='mse', max_depth=7,\n",
      "           max_features='auto', max_leaf_nodes=None,\n",
      "           min_impurity_decrease=0.0, min_impurity_split=None,\n",
      "           min_samples_leaf=1, min_samples_split=2,\n",
      "           min_weight_fraction_leaf=0.0, n_estimators=140, n_jobs=1,\n",
      "           oob_score=False, random_state=None, verbose=0, warm_start=False)\n",
      "Best score: 28.84\n"
     ]
    }
   ],
   "source": [
    "#1- optimization \n",
    "from sklearn.model_selection import GridSearchCV\n",
    "\n",
    "parameters = {'n_estimators':[60,120,140], 'max_depth':[6,7,8]}\n",
    "GS = GridSearchCV(estimator = model , param_grid = parameters,scoring = 'neg_mean_squared_error' )\n",
    "grid_fit = GS.fit( features, target)\n",
    "best_grid= grid_fit.best_estimator_\n",
    "score = grid_fit.best_score_\n",
    "\n",
    "print('Best parameter: {}'.format(best_grid))\n",
    "print('Best score: {:.2f}'.format(sqrt(abs(score))))"
   ]
  },
  {
   "cell_type": "code",
   "execution_count": 33,
   "metadata": {},
   "outputs": [
    {
     "name": "stdout",
     "output_type": "stream",
     "text": [
      "RMSE : 1584.2568894525937\n",
      "**************\n",
      "mean square ERROR: 38.12207315419971\n"
     ]
    }
   ],
   "source": [
    "#2- Decision Tree model \n",
    "from sklearn.tree import DecisionTreeRegressor\n",
    "\n",
    "model = DecisionTreeRegressor()\n",
    "model.fit( featuer_train, target_train)\n",
    "predict = cross_validation.cross_val_predict(model,  featuer_test, target_test,cv=10)\n",
    "\n",
    "'''\n",
    "score_1 =  cross_validation.cross_val_score(model, featuer_test, target_test, cv=10)\n",
    "print(score_1)\n",
    "'''\n",
    "\n",
    "from sklearn.metrics import mean_squared_error\n",
    "score_2=mean_squared_error(target_test, predict)\n",
    "print('RMSE :',score_2)\n",
    "\n",
    "print('**************')\n",
    "\n",
    "from math import sqrt\n",
    "score_3 = sqrt(abs(cross_val_score(DecisionTreeRegressor(), features, target, cv= k_fold ,scoring='neg_mean_squared_error').mean()))\n",
    "print('mean square ERROR:',score_3)\n"
   ]
  },
  {
   "cell_type": "code",
   "execution_count": 42,
   "metadata": {},
   "outputs": [
    {
     "name": "stdout",
     "output_type": "stream",
     "text": [
      "Best parameter: DecisionTreeRegressor(criterion='mse', max_depth=7, max_features=None,\n",
      "           max_leaf_nodes=None, min_impurity_decrease=0.0,\n",
      "           min_impurity_split=None, min_samples_leaf=1,\n",
      "           min_samples_split=190, min_weight_fraction_leaf=0.0,\n",
      "           presort=False, random_state=None, splitter='best')\n",
      "Best score: 29.07\n"
     ]
    }
   ],
   "source": [
    " #2- decision tress optimization  \n",
    "parameters = {'min_samples_split' : range(10,500,20),'max_depth': range(1,20,2)}\n",
    "GS = GridSearchCV(estimator =DecisionTreeRegressor(), param_grid = parameters,scoring = 'neg_mean_squared_error' )\n",
    "grid_fit = GS.fit( features, target)\n",
    "best_grid= grid_fit.best_estimator_\n",
    "score = grid_fit.best_score_\n",
    "print('Best parameter: {}'.format(best_grid))\n",
    "print('Best score: {:.2f}'.format(sqrt(abs(score))))"
   ]
  },
  {
   "cell_type": "code",
   "execution_count": 43,
   "metadata": {},
   "outputs": [
    {
     "name": "stdout",
     "output_type": "stream",
     "text": [
      "**************\n",
      "RMSE : 1937.3521087430797\n",
      "mean square ERROR: 44.14604062732925\n"
     ]
    }
   ],
   "source": [
    "#3- linearRegression \n",
    "from sklearn.linear_model import LinearRegression\n",
    "model = LinearRegression()\n",
    "model.fit( featuer_train, target_train)\n",
    "predict = cross_validation.cross_val_predict(model,  featuer_test, target_test,cv=10)\n",
    "\n",
    "print('**************')\n",
    "\n",
    "score_2=mean_squared_error(target_test, predict)\n",
    "print('RMSE :',score_2)\n",
    "\n",
    "score_3 = sqrt(abs(cross_val_score(model, features, target, cv=k_fold,scoring='neg_mean_squared_error').mean()))\n",
    "print('mean square ERROR:',score_3)"
   ]
  },
  {
   "cell_type": "code",
   "execution_count": 44,
   "metadata": {},
   "outputs": [
    {
     "name": "stdout",
     "output_type": "stream",
     "text": [
      "Best parameter: LinearRegression(copy_X=True, fit_intercept=True, n_jobs=1, normalize=True)\n",
      "Best score: 44.21\n"
     ]
    }
   ],
   "source": [
    "parameters = {'fit_intercept':[True,False], 'normalize':[True,False], 'copy_X':[True, False]}\n",
    "GS = GridSearchCV(estimator = LinearRegression() , param_grid = parameters,scoring = 'neg_mean_squared_error' )\n",
    "grid_fit = GS.fit( features, target)\n",
    "best_grid= grid_fit.best_estimator_\n",
    "score = grid_fit.best_score_\n",
    "print('Best parameter: {}'.format(best_grid))\n",
    "print('Best score: {:.2f}'.format(sqrt(abs(score))))"
   ]
  },
  {
   "cell_type": "markdown",
   "metadata": {},
   "source": [
    "# 6/ Model Evaluation"
   ]
  },
  {
   "cell_type": "code",
   "execution_count": 45,
   "metadata": {},
   "outputs": [],
   "source": [
    "from sklearn.model_selection import learning_curve\n",
    "train_sizes, train_scores, test_scores = learning_curve(LinearRegression(), features, target, cv=8,\n",
    "                                                        train_sizes=np.linspace(0.01, 1.0, 50))\n",
    "\n",
    "# Create means and standard deviations of training set scores\n",
    "train_mean = np.mean(train_scores, axis=1)\n",
    "train_std = np.std(train_scores, axis=1)\n",
    "\n",
    "# Create means and standard deviations of test set scores\n",
    "test_mean = np.mean(test_scores, axis=1)\n",
    "test_std = np.std(test_scores, axis=1)"
   ]
  },
  {
   "cell_type": "code",
   "execution_count": 46,
   "metadata": {},
   "outputs": [
    {
     "data": {
      "image/png": "[encoded data removed]",
      "text/plain": [
       "<Figure size 432x288 with 1 Axes>"
      ]
     },
     "metadata": {},
     "output_type": "display_data"
    }
   ],
   "source": [
    "\n",
    "\n",
    "# Draw lines\n",
    "plt.plot(train_sizes, train_mean, '--', color=\"#111111\",  label=\"Training score\")\n",
    "plt.plot(train_sizes, test_mean, color=\"#111111\", label=\"Cross-validation score\")\n",
    "\n",
    "# Draw bands\n",
    "plt.fill_between(train_sizes, train_mean - train_std, train_mean + train_std, color=\"#DDDDDD\")\n",
    "plt.fill_between(train_sizes, test_mean - test_std, test_mean + test_std, color=\"#DDDDDD\")\n",
    "\n",
    "# Create plot\n",
    "plt.title(\"Learning Curve\")\n",
    "plt.xlabel(\"Training Set Size\"), plt.ylabel(\"Accuracy Score\"), plt.legend(loc=\"best\")\n",
    "plt.tight_layout()\n",
    "plt.show()\n",
    "                            "
   ]
  }
 ],
 "metadata": {
  "kernelspec": {
   "display_name": "Python 3",
   "language": "python",
   "name": "python3"
  },
  "language_info": {
   "codemirror_mode": {
    "name": "ipython",
    "version": 3
   },
   "file_extension": ".py",
   "mimetype": "text/x-python",
   "name": "python",
   "nbconvert_exporter": "python",
   "pygments_lexer": "ipython3",
   "version": "3.6.5"
  }
 },
 "nbformat": 4,
 "nbformat_minor": 2
}
